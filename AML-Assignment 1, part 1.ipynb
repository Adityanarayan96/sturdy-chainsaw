{
 "cells": [
  {
   "cell_type": "code",
   "execution_count": 1,
   "metadata": {},
   "outputs": [],
   "source": [
    "import numpy as np"
   ]
  },
  {
   "cell_type": "code",
   "execution_count": null,
   "metadata": {},
   "outputs": [],
   "source": [
    "class Dense:#Used to create a set of fully connected (dense) layer of variable size\n",
    "    def __init__(self, Input_size, Output_size, Weights = None, Bias = None, Activation = None)\n",
    "    #Input_size is an integer which specifies the number of inputs to this Dense layer\n",
    "    #output_size is an integer which specifies the number of outputs of this layer(Basically the number of neurons)\n",
    "    #Weights is a matrix of size [Input_size, Output_size], It randomly initializes if not specified\n",
    "    #Bias is a vector of size [1,Output_size], It randomly initializes if not specified\n",
    "    #Activation is a string which takes a function and uses that as function operating on the output. Example Relu and Sigmoid\n",
    "    \n",
    "    \n",
    "    \n",
    "    "
   ]
  }
 ],
 "metadata": {
  "kernelspec": {
   "display_name": "Python 2",
   "language": "python",
   "name": "python2"
  },
  "language_info": {
   "codemirror_mode": {
    "name": "ipython",
    "version": 2
   },
   "file_extension": ".py",
   "mimetype": "text/x-python",
   "name": "python",
   "nbconvert_exporter": "python",
   "pygments_lexer": "ipython2",
   "version": "2.7.16"
  }
 },
 "nbformat": 4,
 "nbformat_minor": 2
}
